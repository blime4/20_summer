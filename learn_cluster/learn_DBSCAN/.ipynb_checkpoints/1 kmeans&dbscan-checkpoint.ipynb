{
 "cells": [
  {
   "cell_type": "code",
   "execution_count": 1,
   "metadata": {
    "ExecuteTime": {
     "end_time": "2020-07-21T06:07:03.055293Z",
     "start_time": "2020-07-21T06:07:02.639915Z"
    }
   },
   "outputs": [
    {
     "data": {
      "text/html": [
       "<div>\n",
       "<style scoped>\n",
       "    .dataframe tbody tr th:only-of-type {\n",
       "        vertical-align: middle;\n",
       "    }\n",
       "\n",
       "    .dataframe tbody tr th {\n",
       "        vertical-align: top;\n",
       "    }\n",
       "\n",
       "    .dataframe thead th {\n",
       "        text-align: right;\n",
       "    }\n",
       "</style>\n",
       "<table border=\"1\" class=\"dataframe\">\n",
       "  <thead>\n",
       "    <tr style=\"text-align: right;\">\n",
       "      <th></th>\n",
       "      <th>name</th>\n",
       "      <th>calories</th>\n",
       "      <th>sodium</th>\n",
       "      <th>alcohol</th>\n",
       "      <th>cost</th>\n",
       "    </tr>\n",
       "  </thead>\n",
       "  <tbody>\n",
       "    <tr>\n",
       "      <th>0</th>\n",
       "      <td>Budweiser</td>\n",
       "      <td>144</td>\n",
       "      <td>15</td>\n",
       "      <td>4.7</td>\n",
       "      <td>0.43</td>\n",
       "    </tr>\n",
       "    <tr>\n",
       "      <th>1</th>\n",
       "      <td>Schlitz</td>\n",
       "      <td>151</td>\n",
       "      <td>19</td>\n",
       "      <td>4.9</td>\n",
       "      <td>0.43</td>\n",
       "    </tr>\n",
       "    <tr>\n",
       "      <th>2</th>\n",
       "      <td>Lowenbrau</td>\n",
       "      <td>157</td>\n",
       "      <td>15</td>\n",
       "      <td>0.9</td>\n",
       "      <td>0.48</td>\n",
       "    </tr>\n",
       "    <tr>\n",
       "      <th>3</th>\n",
       "      <td>Kronenbourg</td>\n",
       "      <td>170</td>\n",
       "      <td>7</td>\n",
       "      <td>5.2</td>\n",
       "      <td>0.73</td>\n",
       "    </tr>\n",
       "    <tr>\n",
       "      <th>4</th>\n",
       "      <td>Heineken</td>\n",
       "      <td>152</td>\n",
       "      <td>11</td>\n",
       "      <td>5.0</td>\n",
       "      <td>0.77</td>\n",
       "    </tr>\n",
       "    <tr>\n",
       "      <th>5</th>\n",
       "      <td>Old_Milwaukee</td>\n",
       "      <td>145</td>\n",
       "      <td>23</td>\n",
       "      <td>4.6</td>\n",
       "      <td>0.28</td>\n",
       "    </tr>\n",
       "    <tr>\n",
       "      <th>6</th>\n",
       "      <td>Augsberger</td>\n",
       "      <td>175</td>\n",
       "      <td>24</td>\n",
       "      <td>5.5</td>\n",
       "      <td>0.40</td>\n",
       "    </tr>\n",
       "    <tr>\n",
       "      <th>7</th>\n",
       "      <td>Srohs_Bohemian_Style</td>\n",
       "      <td>149</td>\n",
       "      <td>27</td>\n",
       "      <td>4.7</td>\n",
       "      <td>0.42</td>\n",
       "    </tr>\n",
       "    <tr>\n",
       "      <th>8</th>\n",
       "      <td>Miller_Lite</td>\n",
       "      <td>99</td>\n",
       "      <td>10</td>\n",
       "      <td>4.3</td>\n",
       "      <td>0.43</td>\n",
       "    </tr>\n",
       "    <tr>\n",
       "      <th>9</th>\n",
       "      <td>Budweiser_Light</td>\n",
       "      <td>113</td>\n",
       "      <td>8</td>\n",
       "      <td>3.7</td>\n",
       "      <td>0.40</td>\n",
       "    </tr>\n",
       "    <tr>\n",
       "      <th>10</th>\n",
       "      <td>Coors</td>\n",
       "      <td>140</td>\n",
       "      <td>18</td>\n",
       "      <td>4.6</td>\n",
       "      <td>0.44</td>\n",
       "    </tr>\n",
       "    <tr>\n",
       "      <th>11</th>\n",
       "      <td>Coors_Light</td>\n",
       "      <td>102</td>\n",
       "      <td>15</td>\n",
       "      <td>4.1</td>\n",
       "      <td>0.46</td>\n",
       "    </tr>\n",
       "    <tr>\n",
       "      <th>12</th>\n",
       "      <td>Michelob_Light</td>\n",
       "      <td>135</td>\n",
       "      <td>11</td>\n",
       "      <td>4.2</td>\n",
       "      <td>0.50</td>\n",
       "    </tr>\n",
       "    <tr>\n",
       "      <th>13</th>\n",
       "      <td>Becks</td>\n",
       "      <td>150</td>\n",
       "      <td>19</td>\n",
       "      <td>4.7</td>\n",
       "      <td>0.76</td>\n",
       "    </tr>\n",
       "    <tr>\n",
       "      <th>14</th>\n",
       "      <td>Kirin</td>\n",
       "      <td>149</td>\n",
       "      <td>6</td>\n",
       "      <td>5.0</td>\n",
       "      <td>0.79</td>\n",
       "    </tr>\n",
       "    <tr>\n",
       "      <th>15</th>\n",
       "      <td>Pabst_Extra_Light</td>\n",
       "      <td>68</td>\n",
       "      <td>15</td>\n",
       "      <td>2.3</td>\n",
       "      <td>0.38</td>\n",
       "    </tr>\n",
       "    <tr>\n",
       "      <th>16</th>\n",
       "      <td>Hamms</td>\n",
       "      <td>139</td>\n",
       "      <td>19</td>\n",
       "      <td>4.4</td>\n",
       "      <td>0.43</td>\n",
       "    </tr>\n",
       "    <tr>\n",
       "      <th>17</th>\n",
       "      <td>Heilemans_Old_Style</td>\n",
       "      <td>144</td>\n",
       "      <td>24</td>\n",
       "      <td>4.9</td>\n",
       "      <td>0.43</td>\n",
       "    </tr>\n",
       "    <tr>\n",
       "      <th>18</th>\n",
       "      <td>Olympia_Goled_Light</td>\n",
       "      <td>72</td>\n",
       "      <td>6</td>\n",
       "      <td>2.9</td>\n",
       "      <td>0.46</td>\n",
       "    </tr>\n",
       "    <tr>\n",
       "      <th>19</th>\n",
       "      <td>Schlitz_Light</td>\n",
       "      <td>97</td>\n",
       "      <td>7</td>\n",
       "      <td>4.2</td>\n",
       "      <td>0.47</td>\n",
       "    </tr>\n",
       "  </tbody>\n",
       "</table>\n",
       "</div>"
      ],
      "text/plain": [
       "                    name  calories  sodium  alcohol  cost\n",
       "0              Budweiser       144      15      4.7  0.43\n",
       "1                Schlitz       151      19      4.9  0.43\n",
       "2              Lowenbrau       157      15      0.9  0.48\n",
       "3            Kronenbourg       170       7      5.2  0.73\n",
       "4               Heineken       152      11      5.0  0.77\n",
       "5          Old_Milwaukee       145      23      4.6  0.28\n",
       "6             Augsberger       175      24      5.5  0.40\n",
       "7   Srohs_Bohemian_Style       149      27      4.7  0.42\n",
       "8            Miller_Lite        99      10      4.3  0.43\n",
       "9        Budweiser_Light       113       8      3.7  0.40\n",
       "10                 Coors       140      18      4.6  0.44\n",
       "11           Coors_Light       102      15      4.1  0.46\n",
       "12        Michelob_Light       135      11      4.2  0.50\n",
       "13                 Becks       150      19      4.7  0.76\n",
       "14                 Kirin       149       6      5.0  0.79\n",
       "15     Pabst_Extra_Light        68      15      2.3  0.38\n",
       "16                 Hamms       139      19      4.4  0.43\n",
       "17   Heilemans_Old_Style       144      24      4.9  0.43\n",
       "18   Olympia_Goled_Light        72       6      2.9  0.46\n",
       "19         Schlitz_Light        97       7      4.2  0.47"
      ]
     },
     "execution_count": 1,
     "metadata": {},
     "output_type": "execute_result"
    }
   ],
   "source": [
    "import pandas as pd\n",
    "beer = pd.read_csv(\"data.txt\",sep=\" \")\n",
    "beer"
   ]
  },
  {
   "cell_type": "code",
   "execution_count": 2,
   "metadata": {
    "ExecuteTime": {
     "end_time": "2020-07-21T06:08:13.752782Z",
     "start_time": "2020-07-21T06:08:13.740930Z"
    }
   },
   "outputs": [
    {
     "data": {
      "text/html": [
       "<div>\n",
       "<style scoped>\n",
       "    .dataframe tbody tr th:only-of-type {\n",
       "        vertical-align: middle;\n",
       "    }\n",
       "\n",
       "    .dataframe tbody tr th {\n",
       "        vertical-align: top;\n",
       "    }\n",
       "\n",
       "    .dataframe thead th {\n",
       "        text-align: right;\n",
       "    }\n",
       "</style>\n",
       "<table border=\"1\" class=\"dataframe\">\n",
       "  <thead>\n",
       "    <tr style=\"text-align: right;\">\n",
       "      <th></th>\n",
       "      <th>calories</th>\n",
       "      <th>sodium</th>\n",
       "      <th>alcohol</th>\n",
       "      <th>cost</th>\n",
       "    </tr>\n",
       "  </thead>\n",
       "  <tbody>\n",
       "    <tr>\n",
       "      <th>0</th>\n",
       "      <td>144</td>\n",
       "      <td>15</td>\n",
       "      <td>4.7</td>\n",
       "      <td>0.43</td>\n",
       "    </tr>\n",
       "    <tr>\n",
       "      <th>1</th>\n",
       "      <td>151</td>\n",
       "      <td>19</td>\n",
       "      <td>4.9</td>\n",
       "      <td>0.43</td>\n",
       "    </tr>\n",
       "    <tr>\n",
       "      <th>2</th>\n",
       "      <td>157</td>\n",
       "      <td>15</td>\n",
       "      <td>0.9</td>\n",
       "      <td>0.48</td>\n",
       "    </tr>\n",
       "    <tr>\n",
       "      <th>3</th>\n",
       "      <td>170</td>\n",
       "      <td>7</td>\n",
       "      <td>5.2</td>\n",
       "      <td>0.73</td>\n",
       "    </tr>\n",
       "    <tr>\n",
       "      <th>4</th>\n",
       "      <td>152</td>\n",
       "      <td>11</td>\n",
       "      <td>5.0</td>\n",
       "      <td>0.77</td>\n",
       "    </tr>\n",
       "    <tr>\n",
       "      <th>5</th>\n",
       "      <td>145</td>\n",
       "      <td>23</td>\n",
       "      <td>4.6</td>\n",
       "      <td>0.28</td>\n",
       "    </tr>\n",
       "    <tr>\n",
       "      <th>6</th>\n",
       "      <td>175</td>\n",
       "      <td>24</td>\n",
       "      <td>5.5</td>\n",
       "      <td>0.40</td>\n",
       "    </tr>\n",
       "    <tr>\n",
       "      <th>7</th>\n",
       "      <td>149</td>\n",
       "      <td>27</td>\n",
       "      <td>4.7</td>\n",
       "      <td>0.42</td>\n",
       "    </tr>\n",
       "    <tr>\n",
       "      <th>8</th>\n",
       "      <td>99</td>\n",
       "      <td>10</td>\n",
       "      <td>4.3</td>\n",
       "      <td>0.43</td>\n",
       "    </tr>\n",
       "    <tr>\n",
       "      <th>9</th>\n",
       "      <td>113</td>\n",
       "      <td>8</td>\n",
       "      <td>3.7</td>\n",
       "      <td>0.40</td>\n",
       "    </tr>\n",
       "    <tr>\n",
       "      <th>10</th>\n",
       "      <td>140</td>\n",
       "      <td>18</td>\n",
       "      <td>4.6</td>\n",
       "      <td>0.44</td>\n",
       "    </tr>\n",
       "    <tr>\n",
       "      <th>11</th>\n",
       "      <td>102</td>\n",
       "      <td>15</td>\n",
       "      <td>4.1</td>\n",
       "      <td>0.46</td>\n",
       "    </tr>\n",
       "    <tr>\n",
       "      <th>12</th>\n",
       "      <td>135</td>\n",
       "      <td>11</td>\n",
       "      <td>4.2</td>\n",
       "      <td>0.50</td>\n",
       "    </tr>\n",
       "    <tr>\n",
       "      <th>13</th>\n",
       "      <td>150</td>\n",
       "      <td>19</td>\n",
       "      <td>4.7</td>\n",
       "      <td>0.76</td>\n",
       "    </tr>\n",
       "    <tr>\n",
       "      <th>14</th>\n",
       "      <td>149</td>\n",
       "      <td>6</td>\n",
       "      <td>5.0</td>\n",
       "      <td>0.79</td>\n",
       "    </tr>\n",
       "    <tr>\n",
       "      <th>15</th>\n",
       "      <td>68</td>\n",
       "      <td>15</td>\n",
       "      <td>2.3</td>\n",
       "      <td>0.38</td>\n",
       "    </tr>\n",
       "    <tr>\n",
       "      <th>16</th>\n",
       "      <td>139</td>\n",
       "      <td>19</td>\n",
       "      <td>4.4</td>\n",
       "      <td>0.43</td>\n",
       "    </tr>\n",
       "    <tr>\n",
       "      <th>17</th>\n",
       "      <td>144</td>\n",
       "      <td>24</td>\n",
       "      <td>4.9</td>\n",
       "      <td>0.43</td>\n",
       "    </tr>\n",
       "    <tr>\n",
       "      <th>18</th>\n",
       "      <td>72</td>\n",
       "      <td>6</td>\n",
       "      <td>2.9</td>\n",
       "      <td>0.46</td>\n",
       "    </tr>\n",
       "    <tr>\n",
       "      <th>19</th>\n",
       "      <td>97</td>\n",
       "      <td>7</td>\n",
       "      <td>4.2</td>\n",
       "      <td>0.47</td>\n",
       "    </tr>\n",
       "  </tbody>\n",
       "</table>\n",
       "</div>"
      ],
      "text/plain": [
       "    calories  sodium  alcohol  cost\n",
       "0        144      15      4.7  0.43\n",
       "1        151      19      4.9  0.43\n",
       "2        157      15      0.9  0.48\n",
       "3        170       7      5.2  0.73\n",
       "4        152      11      5.0  0.77\n",
       "5        145      23      4.6  0.28\n",
       "6        175      24      5.5  0.40\n",
       "7        149      27      4.7  0.42\n",
       "8         99      10      4.3  0.43\n",
       "9        113       8      3.7  0.40\n",
       "10       140      18      4.6  0.44\n",
       "11       102      15      4.1  0.46\n",
       "12       135      11      4.2  0.50\n",
       "13       150      19      4.7  0.76\n",
       "14       149       6      5.0  0.79\n",
       "15        68      15      2.3  0.38\n",
       "16       139      19      4.4  0.43\n",
       "17       144      24      4.9  0.43\n",
       "18        72       6      2.9  0.46\n",
       "19        97       7      4.2  0.47"
      ]
     },
     "execution_count": 2,
     "metadata": {},
     "output_type": "execute_result"
    }
   ],
   "source": [
    "x= beer[[\"calories\",\"sodium\",\"alcohol\",\"cost\"]]\n",
    "x"
   ]
  },
  {
   "cell_type": "markdown",
   "metadata": {},
   "source": [
    "# k-means clustering"
   ]
  },
  {
   "cell_type": "code",
   "execution_count": 3,
   "metadata": {
    "ExecuteTime": {
     "end_time": "2020-07-21T06:09:53.138550Z",
     "start_time": "2020-07-21T06:09:52.390650Z"
    }
   },
   "outputs": [],
   "source": [
    "from sklearn.cluster import KMeans\n",
    "\n",
    "km = KMeans(n_clusters=3).fit(x)\n",
    "km2 = KMeans(n_clusters=2).fit(x)"
   ]
  },
  {
   "cell_type": "code",
   "execution_count": 4,
   "metadata": {
    "ExecuteTime": {
     "end_time": "2020-07-21T06:10:01.212820Z",
     "start_time": "2020-07-21T06:10:01.206889Z"
    }
   },
   "outputs": [
    {
     "data": {
      "text/plain": [
       "array([1, 1, 1, 1, 1, 1, 1, 1, 0, 0, 1, 0, 1, 1, 1, 2, 1, 1, 2, 0],\n",
       "      dtype=int32)"
      ]
     },
     "execution_count": 4,
     "metadata": {},
     "output_type": "execute_result"
    }
   ],
   "source": [
    "km.labels_"
   ]
  },
  {
   "cell_type": "code",
   "execution_count": 5,
   "metadata": {
    "ExecuteTime": {
     "end_time": "2020-07-21T06:22:27.862128Z",
     "start_time": "2020-07-21T06:22:27.857111Z"
    }
   },
   "outputs": [],
   "source": [
    "beer[\"cluster\"] = km.labels_\n",
    "beer[\"cluster2\"] = km2.labels_"
   ]
  },
  {
   "cell_type": "code",
   "execution_count": 6,
   "metadata": {
    "ExecuteTime": {
     "end_time": "2020-07-21T06:22:49.280020Z",
     "start_time": "2020-07-21T06:22:49.265347Z"
    }
   },
   "outputs": [
    {
     "data": {
      "text/html": [
       "<div>\n",
       "<style scoped>\n",
       "    .dataframe tbody tr th:only-of-type {\n",
       "        vertical-align: middle;\n",
       "    }\n",
       "\n",
       "    .dataframe tbody tr th {\n",
       "        vertical-align: top;\n",
       "    }\n",
       "\n",
       "    .dataframe thead th {\n",
       "        text-align: right;\n",
       "    }\n",
       "</style>\n",
       "<table border=\"1\" class=\"dataframe\">\n",
       "  <thead>\n",
       "    <tr style=\"text-align: right;\">\n",
       "      <th></th>\n",
       "      <th>name</th>\n",
       "      <th>calories</th>\n",
       "      <th>sodium</th>\n",
       "      <th>alcohol</th>\n",
       "      <th>cost</th>\n",
       "      <th>cluster</th>\n",
       "      <th>cluster2</th>\n",
       "    </tr>\n",
       "  </thead>\n",
       "  <tbody>\n",
       "    <tr>\n",
       "      <th>9</th>\n",
       "      <td>Budweiser_Light</td>\n",
       "      <td>113</td>\n",
       "      <td>8</td>\n",
       "      <td>3.7</td>\n",
       "      <td>0.40</td>\n",
       "      <td>0</td>\n",
       "      <td>1</td>\n",
       "    </tr>\n",
       "    <tr>\n",
       "      <th>11</th>\n",
       "      <td>Coors_Light</td>\n",
       "      <td>102</td>\n",
       "      <td>15</td>\n",
       "      <td>4.1</td>\n",
       "      <td>0.46</td>\n",
       "      <td>0</td>\n",
       "      <td>1</td>\n",
       "    </tr>\n",
       "    <tr>\n",
       "      <th>8</th>\n",
       "      <td>Miller_Lite</td>\n",
       "      <td>99</td>\n",
       "      <td>10</td>\n",
       "      <td>4.3</td>\n",
       "      <td>0.43</td>\n",
       "      <td>0</td>\n",
       "      <td>1</td>\n",
       "    </tr>\n",
       "    <tr>\n",
       "      <th>19</th>\n",
       "      <td>Schlitz_Light</td>\n",
       "      <td>97</td>\n",
       "      <td>7</td>\n",
       "      <td>4.2</td>\n",
       "      <td>0.47</td>\n",
       "      <td>0</td>\n",
       "      <td>1</td>\n",
       "    </tr>\n",
       "    <tr>\n",
       "      <th>4</th>\n",
       "      <td>Heineken</td>\n",
       "      <td>152</td>\n",
       "      <td>11</td>\n",
       "      <td>5.0</td>\n",
       "      <td>0.77</td>\n",
       "      <td>1</td>\n",
       "      <td>0</td>\n",
       "    </tr>\n",
       "    <tr>\n",
       "      <th>5</th>\n",
       "      <td>Old_Milwaukee</td>\n",
       "      <td>145</td>\n",
       "      <td>23</td>\n",
       "      <td>4.6</td>\n",
       "      <td>0.28</td>\n",
       "      <td>1</td>\n",
       "      <td>0</td>\n",
       "    </tr>\n",
       "    <tr>\n",
       "      <th>6</th>\n",
       "      <td>Augsberger</td>\n",
       "      <td>175</td>\n",
       "      <td>24</td>\n",
       "      <td>5.5</td>\n",
       "      <td>0.40</td>\n",
       "      <td>1</td>\n",
       "      <td>0</td>\n",
       "    </tr>\n",
       "    <tr>\n",
       "      <th>7</th>\n",
       "      <td>Srohs_Bohemian_Style</td>\n",
       "      <td>149</td>\n",
       "      <td>27</td>\n",
       "      <td>4.7</td>\n",
       "      <td>0.42</td>\n",
       "      <td>1</td>\n",
       "      <td>0</td>\n",
       "    </tr>\n",
       "    <tr>\n",
       "      <th>2</th>\n",
       "      <td>Lowenbrau</td>\n",
       "      <td>157</td>\n",
       "      <td>15</td>\n",
       "      <td>0.9</td>\n",
       "      <td>0.48</td>\n",
       "      <td>1</td>\n",
       "      <td>0</td>\n",
       "    </tr>\n",
       "    <tr>\n",
       "      <th>10</th>\n",
       "      <td>Coors</td>\n",
       "      <td>140</td>\n",
       "      <td>18</td>\n",
       "      <td>4.6</td>\n",
       "      <td>0.44</td>\n",
       "      <td>1</td>\n",
       "      <td>0</td>\n",
       "    </tr>\n",
       "    <tr>\n",
       "      <th>1</th>\n",
       "      <td>Schlitz</td>\n",
       "      <td>151</td>\n",
       "      <td>19</td>\n",
       "      <td>4.9</td>\n",
       "      <td>0.43</td>\n",
       "      <td>1</td>\n",
       "      <td>0</td>\n",
       "    </tr>\n",
       "    <tr>\n",
       "      <th>12</th>\n",
       "      <td>Michelob_Light</td>\n",
       "      <td>135</td>\n",
       "      <td>11</td>\n",
       "      <td>4.2</td>\n",
       "      <td>0.50</td>\n",
       "      <td>1</td>\n",
       "      <td>0</td>\n",
       "    </tr>\n",
       "    <tr>\n",
       "      <th>13</th>\n",
       "      <td>Becks</td>\n",
       "      <td>150</td>\n",
       "      <td>19</td>\n",
       "      <td>4.7</td>\n",
       "      <td>0.76</td>\n",
       "      <td>1</td>\n",
       "      <td>0</td>\n",
       "    </tr>\n",
       "    <tr>\n",
       "      <th>14</th>\n",
       "      <td>Kirin</td>\n",
       "      <td>149</td>\n",
       "      <td>6</td>\n",
       "      <td>5.0</td>\n",
       "      <td>0.79</td>\n",
       "      <td>1</td>\n",
       "      <td>0</td>\n",
       "    </tr>\n",
       "    <tr>\n",
       "      <th>16</th>\n",
       "      <td>Hamms</td>\n",
       "      <td>139</td>\n",
       "      <td>19</td>\n",
       "      <td>4.4</td>\n",
       "      <td>0.43</td>\n",
       "      <td>1</td>\n",
       "      <td>0</td>\n",
       "    </tr>\n",
       "    <tr>\n",
       "      <th>17</th>\n",
       "      <td>Heilemans_Old_Style</td>\n",
       "      <td>144</td>\n",
       "      <td>24</td>\n",
       "      <td>4.9</td>\n",
       "      <td>0.43</td>\n",
       "      <td>1</td>\n",
       "      <td>0</td>\n",
       "    </tr>\n",
       "    <tr>\n",
       "      <th>3</th>\n",
       "      <td>Kronenbourg</td>\n",
       "      <td>170</td>\n",
       "      <td>7</td>\n",
       "      <td>5.2</td>\n",
       "      <td>0.73</td>\n",
       "      <td>1</td>\n",
       "      <td>0</td>\n",
       "    </tr>\n",
       "    <tr>\n",
       "      <th>0</th>\n",
       "      <td>Budweiser</td>\n",
       "      <td>144</td>\n",
       "      <td>15</td>\n",
       "      <td>4.7</td>\n",
       "      <td>0.43</td>\n",
       "      <td>1</td>\n",
       "      <td>0</td>\n",
       "    </tr>\n",
       "    <tr>\n",
       "      <th>18</th>\n",
       "      <td>Olympia_Goled_Light</td>\n",
       "      <td>72</td>\n",
       "      <td>6</td>\n",
       "      <td>2.9</td>\n",
       "      <td>0.46</td>\n",
       "      <td>2</td>\n",
       "      <td>1</td>\n",
       "    </tr>\n",
       "    <tr>\n",
       "      <th>15</th>\n",
       "      <td>Pabst_Extra_Light</td>\n",
       "      <td>68</td>\n",
       "      <td>15</td>\n",
       "      <td>2.3</td>\n",
       "      <td>0.38</td>\n",
       "      <td>2</td>\n",
       "      <td>1</td>\n",
       "    </tr>\n",
       "  </tbody>\n",
       "</table>\n",
       "</div>"
      ],
      "text/plain": [
       "                    name  calories  sodium  alcohol  cost  cluster  cluster2\n",
       "9        Budweiser_Light       113       8      3.7  0.40        0         1\n",
       "11           Coors_Light       102      15      4.1  0.46        0         1\n",
       "8            Miller_Lite        99      10      4.3  0.43        0         1\n",
       "19         Schlitz_Light        97       7      4.2  0.47        0         1\n",
       "4               Heineken       152      11      5.0  0.77        1         0\n",
       "5          Old_Milwaukee       145      23      4.6  0.28        1         0\n",
       "6             Augsberger       175      24      5.5  0.40        1         0\n",
       "7   Srohs_Bohemian_Style       149      27      4.7  0.42        1         0\n",
       "2              Lowenbrau       157      15      0.9  0.48        1         0\n",
       "10                 Coors       140      18      4.6  0.44        1         0\n",
       "1                Schlitz       151      19      4.9  0.43        1         0\n",
       "12        Michelob_Light       135      11      4.2  0.50        1         0\n",
       "13                 Becks       150      19      4.7  0.76        1         0\n",
       "14                 Kirin       149       6      5.0  0.79        1         0\n",
       "16                 Hamms       139      19      4.4  0.43        1         0\n",
       "17   Heilemans_Old_Style       144      24      4.9  0.43        1         0\n",
       "3            Kronenbourg       170       7      5.2  0.73        1         0\n",
       "0              Budweiser       144      15      4.7  0.43        1         0\n",
       "18   Olympia_Goled_Light        72       6      2.9  0.46        2         1\n",
       "15     Pabst_Extra_Light        68      15      2.3  0.38        2         1"
      ]
     },
     "execution_count": 6,
     "metadata": {},
     "output_type": "execute_result"
    }
   ],
   "source": [
    "beer.sort_values(\"cluster\")"
   ]
  },
  {
   "cell_type": "code",
   "execution_count": 10,
   "metadata": {
    "ExecuteTime": {
     "end_time": "2020-07-21T06:39:45.563282Z",
     "start_time": "2020-07-21T06:39:45.556715Z"
    }
   },
   "outputs": [],
   "source": [
    "from pandas.plotting import scatter_matrix\n",
    "%matplotlib inline\n",
    "\n",
    "cluster_centers = km.cluster_centers_\n",
    "cluster_centers_2 = km2.cluster_centers_"
   ]
  },
  {
   "cell_type": "code",
   "execution_count": 11,
   "metadata": {
    "ExecuteTime": {
     "end_time": "2020-07-21T06:40:07.830009Z",
     "start_time": "2020-07-21T06:40:07.812905Z"
    }
   },
   "outputs": [
    {
     "data": {
      "text/html": [
       "<div>\n",
       "<style scoped>\n",
       "    .dataframe tbody tr th:only-of-type {\n",
       "        vertical-align: middle;\n",
       "    }\n",
       "\n",
       "    .dataframe tbody tr th {\n",
       "        vertical-align: top;\n",
       "    }\n",
       "\n",
       "    .dataframe thead th {\n",
       "        text-align: right;\n",
       "    }\n",
       "</style>\n",
       "<table border=\"1\" class=\"dataframe\">\n",
       "  <thead>\n",
       "    <tr style=\"text-align: right;\">\n",
       "      <th></th>\n",
       "      <th>calories</th>\n",
       "      <th>sodium</th>\n",
       "      <th>alcohol</th>\n",
       "      <th>cost</th>\n",
       "      <th>cluster2</th>\n",
       "    </tr>\n",
       "    <tr>\n",
       "      <th>cluster</th>\n",
       "      <th></th>\n",
       "      <th></th>\n",
       "      <th></th>\n",
       "      <th></th>\n",
       "      <th></th>\n",
       "    </tr>\n",
       "  </thead>\n",
       "  <tbody>\n",
       "    <tr>\n",
       "      <th>0</th>\n",
       "      <td>102.75</td>\n",
       "      <td>10.0</td>\n",
       "      <td>4.075000</td>\n",
       "      <td>0.440000</td>\n",
       "      <td>1</td>\n",
       "    </tr>\n",
       "    <tr>\n",
       "      <th>1</th>\n",
       "      <td>150.00</td>\n",
       "      <td>17.0</td>\n",
       "      <td>4.521429</td>\n",
       "      <td>0.520714</td>\n",
       "      <td>0</td>\n",
       "    </tr>\n",
       "    <tr>\n",
       "      <th>2</th>\n",
       "      <td>70.00</td>\n",
       "      <td>10.5</td>\n",
       "      <td>2.600000</td>\n",
       "      <td>0.420000</td>\n",
       "      <td>1</td>\n",
       "    </tr>\n",
       "  </tbody>\n",
       "</table>\n",
       "</div>"
      ],
      "text/plain": [
       "         calories  sodium   alcohol      cost  cluster2\n",
       "cluster                                                \n",
       "0          102.75    10.0  4.075000  0.440000         1\n",
       "1          150.00    17.0  4.521429  0.520714         0\n",
       "2           70.00    10.5  2.600000  0.420000         1"
      ]
     },
     "execution_count": 11,
     "metadata": {},
     "output_type": "execute_result"
    }
   ],
   "source": [
    "beer.groupby(\"cluster\").mean()"
   ]
  },
  {
   "cell_type": "code",
   "execution_count": 12,
   "metadata": {
    "ExecuteTime": {
     "end_time": "2020-07-21T06:40:47.703622Z",
     "start_time": "2020-07-21T06:40:47.691411Z"
    }
   },
   "outputs": [
    {
     "data": {
      "text/html": [
       "<div>\n",
       "<style scoped>\n",
       "    .dataframe tbody tr th:only-of-type {\n",
       "        vertical-align: middle;\n",
       "    }\n",
       "\n",
       "    .dataframe tbody tr th {\n",
       "        vertical-align: top;\n",
       "    }\n",
       "\n",
       "    .dataframe thead th {\n",
       "        text-align: right;\n",
       "    }\n",
       "</style>\n",
       "<table border=\"1\" class=\"dataframe\">\n",
       "  <thead>\n",
       "    <tr style=\"text-align: right;\">\n",
       "      <th></th>\n",
       "      <th>calories</th>\n",
       "      <th>sodium</th>\n",
       "      <th>alcohol</th>\n",
       "      <th>cost</th>\n",
       "      <th>cluster</th>\n",
       "    </tr>\n",
       "    <tr>\n",
       "      <th>cluster2</th>\n",
       "      <th></th>\n",
       "      <th></th>\n",
       "      <th></th>\n",
       "      <th></th>\n",
       "      <th></th>\n",
       "    </tr>\n",
       "  </thead>\n",
       "  <tbody>\n",
       "    <tr>\n",
       "      <th>0</th>\n",
       "      <td>150.000000</td>\n",
       "      <td>17.000000</td>\n",
       "      <td>4.521429</td>\n",
       "      <td>0.520714</td>\n",
       "      <td>1.000000</td>\n",
       "    </tr>\n",
       "    <tr>\n",
       "      <th>1</th>\n",
       "      <td>91.833333</td>\n",
       "      <td>10.166667</td>\n",
       "      <td>3.583333</td>\n",
       "      <td>0.433333</td>\n",
       "      <td>0.666667</td>\n",
       "    </tr>\n",
       "  </tbody>\n",
       "</table>\n",
       "</div>"
      ],
      "text/plain": [
       "            calories     sodium   alcohol      cost   cluster\n",
       "cluster2                                                     \n",
       "0         150.000000  17.000000  4.521429  0.520714  1.000000\n",
       "1          91.833333  10.166667  3.583333  0.433333  0.666667"
      ]
     },
     "execution_count": 12,
     "metadata": {},
     "output_type": "execute_result"
    }
   ],
   "source": [
    "beer.groupby(\"cluster2\").mean()"
   ]
  },
  {
   "cell_type": "code",
   "execution_count": 13,
   "metadata": {
    "ExecuteTime": {
     "end_time": "2020-07-21T06:41:33.864485Z",
     "start_time": "2020-07-21T06:41:33.854355Z"
    }
   },
   "outputs": [],
   "source": [
    "centers = beer.groupby(\"cluster\").mean().reset_index()"
   ]
  },
  {
   "cell_type": "code",
   "execution_count": 14,
   "metadata": {
    "ExecuteTime": {
     "end_time": "2020-07-21T06:41:43.638762Z",
     "start_time": "2020-07-21T06:41:43.628579Z"
    }
   },
   "outputs": [
    {
     "data": {
      "text/html": [
       "<div>\n",
       "<style scoped>\n",
       "    .dataframe tbody tr th:only-of-type {\n",
       "        vertical-align: middle;\n",
       "    }\n",
       "\n",
       "    .dataframe tbody tr th {\n",
       "        vertical-align: top;\n",
       "    }\n",
       "\n",
       "    .dataframe thead th {\n",
       "        text-align: right;\n",
       "    }\n",
       "</style>\n",
       "<table border=\"1\" class=\"dataframe\">\n",
       "  <thead>\n",
       "    <tr style=\"text-align: right;\">\n",
       "      <th></th>\n",
       "      <th>cluster</th>\n",
       "      <th>calories</th>\n",
       "      <th>sodium</th>\n",
       "      <th>alcohol</th>\n",
       "      <th>cost</th>\n",
       "      <th>cluster2</th>\n",
       "    </tr>\n",
       "  </thead>\n",
       "  <tbody>\n",
       "    <tr>\n",
       "      <th>0</th>\n",
       "      <td>0</td>\n",
       "      <td>102.75</td>\n",
       "      <td>10.0</td>\n",
       "      <td>4.075000</td>\n",
       "      <td>0.440000</td>\n",
       "      <td>1</td>\n",
       "    </tr>\n",
       "    <tr>\n",
       "      <th>1</th>\n",
       "      <td>1</td>\n",
       "      <td>150.00</td>\n",
       "      <td>17.0</td>\n",
       "      <td>4.521429</td>\n",
       "      <td>0.520714</td>\n",
       "      <td>0</td>\n",
       "    </tr>\n",
       "    <tr>\n",
       "      <th>2</th>\n",
       "      <td>2</td>\n",
       "      <td>70.00</td>\n",
       "      <td>10.5</td>\n",
       "      <td>2.600000</td>\n",
       "      <td>0.420000</td>\n",
       "      <td>1</td>\n",
       "    </tr>\n",
       "  </tbody>\n",
       "</table>\n",
       "</div>"
      ],
      "text/plain": [
       "   cluster  calories  sodium   alcohol      cost  cluster2\n",
       "0        0    102.75    10.0  4.075000  0.440000         1\n",
       "1        1    150.00    17.0  4.521429  0.520714         0\n",
       "2        2     70.00    10.5  2.600000  0.420000         1"
      ]
     },
     "execution_count": 14,
     "metadata": {},
     "output_type": "execute_result"
    }
   ],
   "source": [
    "centers"
   ]
  },
  {
   "cell_type": "code",
   "execution_count": 16,
   "metadata": {
    "ExecuteTime": {
     "end_time": "2020-07-21T06:42:46.672432Z",
     "start_time": "2020-07-21T06:42:46.669448Z"
    }
   },
   "outputs": [],
   "source": [
    "import numpy as np\n",
    "colors = np.array([\"red\",\"green\",\"blue\",\"yellow\"])"
   ]
  },
  {
   "cell_type": "code",
   "execution_count": 18,
   "metadata": {
    "ExecuteTime": {
     "end_time": "2020-07-21T06:46:25.651631Z",
     "start_time": "2020-07-21T06:46:25.457284Z"
    }
   },
   "outputs": [
    {
     "data": {
      "text/plain": [
       "Text(0, 0.5, 'Alcohol')"
      ]
     },
     "execution_count": 18,
     "metadata": {},
     "output_type": "execute_result"
    },
    {
     "data": {
      "image/png": "[encoded data removed]",
      "text/plain": [
       "<Figure size 432x288 with 1 Axes>"
      ]
     },
     "metadata": {
      "needs_background": "light"
     },
     "output_type": "display_data"
    }
   ],
   "source": [
    "%matplotlib inline\n",
    "import matplotlib.pyplot as plt\n",
    "plt.rcParams[\"font.size\"] = 14\n",
    "\n",
    "\n",
    "plt.scatter(beer[\"calories\"],beer[\"alcohol\"],c=colors[beer[\"cluster\"]])\n",
    "plt.scatter(centers.calories,centers.alcohol,linewidth=3,marker=\"+\",s=300,c=\"black\")\n",
    "\n",
    "plt.xlabel(\"Calories\")\n",
    "plt.ylabel(\"Alcohol\")"
   ]
  },
  {
   "cell_type": "code",
   "execution_count": 20,
   "metadata": {
    "ExecuteTime": {
     "end_time": "2020-07-21T06:51:23.731617Z",
     "start_time": "2020-07-21T06:51:22.858247Z"
    }
   },
   "outputs": [
    {
     "data": {
      "text/plain": [
       "Text(0.5, 0.98, 'with 3 centroids initialized')"
      ]
     },
     "execution_count": 20,
     "metadata": {},
     "output_type": "execute_result"
    },
    {
     "data": {
      "image/png": "[encoded data removed]",
      "text/plain": [
       "<Figure size 720x720 with 16 Axes>"
      ]
     },
     "metadata": {
      "needs_background": "light"
     },
     "output_type": "display_data"
    }
   ],
   "source": [
    "scatter_matrix(beer[[\"calories\",\"sodium\",\"alcohol\",\"cost\"]],s=100,alpha=1,c=colors[beer[\"cluster\"]],figsize=(10,10))\n",
    "plt.suptitle(\"with 3 centroids initialized\")"
   ]
  },
  {
   "cell_type": "code",
   "execution_count": 21,
   "metadata": {
    "ExecuteTime": {
     "end_time": "2020-07-21T06:53:02.304715Z",
     "start_time": "2020-07-21T06:53:01.297935Z"
    }
   },
   "outputs": [
    {
     "data": {
      "text/plain": [
       "Text(0.5, 0.98, 'with 2 centroids initialized')"
      ]
     },
     "execution_count": 21,
     "metadata": {},
     "output_type": "execute_result"
    },
    {
     "data": {
      "image/png": "[encoded data removed]",
      "text/plain": [
       "<Figure size 720x720 with 16 Axes>"
      ]
     },
     "metadata": {
      "needs_background": "light"
     },
     "output_type": "display_data"
    }
   ],
   "source": [
    "scatter_matrix(beer[[\"calories\",\"sodium\",\"alcohol\",\"cost\"]],s=100,alpha=1,c=colors[beer[\"cluster2\"]],figsize=(10,10))\n",
    "plt.suptitle(\"with 2 centroids initialized\")"
   ]
  },
  {
   "cell_type": "markdown",
   "metadata": {
    "ExecuteTime": {
     "end_time": "2020-07-21T06:53:41.190155Z",
     "start_time": "2020-07-21T06:53:41.186898Z"
    }
   },
   "source": [
    "# scaled data"
   ]
  },
  {
   "cell_type": "code",
   "execution_count": 23,
   "metadata": {
    "ExecuteTime": {
     "end_time": "2020-07-21T06:55:22.742864Z",
     "start_time": "2020-07-21T06:55:22.730260Z"
    }
   },
   "outputs": [
    {
     "data": {
      "text/plain": [
       "array([[ 0.38791334,  0.00779468,  0.43380786, -0.45682969],\n",
       "       [ 0.6250656 ,  0.63136906,  0.62241997, -0.45682969],\n",
       "       [ 0.82833896,  0.00779468, -3.14982226, -0.10269815],\n",
       "       [ 1.26876459, -1.23935408,  0.90533814,  1.66795955],\n",
       "       [ 0.65894449, -0.6157797 ,  0.71672602,  1.95126478],\n",
       "       [ 0.42179223,  1.25494344,  0.3395018 , -1.5192243 ],\n",
       "       [ 1.43815906,  1.41083704,  1.1882563 , -0.66930861],\n",
       "       [ 0.55730781,  1.87851782,  0.43380786, -0.52765599],\n",
       "       [-1.1366369 , -0.7716733 ,  0.05658363, -0.45682969],\n",
       "       [-0.66233238, -1.08346049, -0.5092527 , -0.66930861],\n",
       "       [ 0.25239776,  0.47547547,  0.3395018 , -0.38600338],\n",
       "       [-1.03500022,  0.00779468, -0.13202848, -0.24435076],\n",
       "       [ 0.08300329, -0.6157797 , -0.03772242,  0.03895447],\n",
       "       [ 0.59118671,  0.63136906,  0.43380786,  1.88043848],\n",
       "       [ 0.55730781, -1.39524768,  0.71672602,  2.0929174 ],\n",
       "       [-2.18688263,  0.00779468, -1.82953748, -0.81096123],\n",
       "       [ 0.21851887,  0.63136906,  0.15088969, -0.45682969],\n",
       "       [ 0.38791334,  1.41083704,  0.62241997, -0.45682969],\n",
       "       [-2.05136705, -1.39524768, -1.26370115, -0.24435076],\n",
       "       [-1.20439469, -1.23935408, -0.03772242, -0.17352445]])"
      ]
     },
     "execution_count": 23,
     "metadata": {},
     "output_type": "execute_result"
    }
   ],
   "source": [
    "from sklearn.preprocessing import StandardScaler\n",
    "scaler = StandardScaler()\n",
    "x_scaled = scaler.fit_transform(x)\n",
    "x_scaled"
   ]
  },
  {
   "cell_type": "code",
   "execution_count": 24,
   "metadata": {
    "ExecuteTime": {
     "end_time": "2020-07-21T06:56:33.631388Z",
     "start_time": "2020-07-21T06:56:33.609551Z"
    }
   },
   "outputs": [],
   "source": [
    "km = KMeans(n_clusters=3).fit(x_scaled)"
   ]
  },
  {
   "cell_type": "code",
   "execution_count": 25,
   "metadata": {
    "ExecuteTime": {
     "end_time": "2020-07-21T06:57:23.041007Z",
     "start_time": "2020-07-21T06:57:23.026145Z"
    }
   },
   "outputs": [
    {
     "data": {
      "text/html": [
       "<div>\n",
       "<style scoped>\n",
       "    .dataframe tbody tr th:only-of-type {\n",
       "        vertical-align: middle;\n",
       "    }\n",
       "\n",
       "    .dataframe tbody tr th {\n",
       "        vertical-align: top;\n",
       "    }\n",
       "\n",
       "    .dataframe thead th {\n",
       "        text-align: right;\n",
       "    }\n",
       "</style>\n",
       "<table border=\"1\" class=\"dataframe\">\n",
       "  <thead>\n",
       "    <tr style=\"text-align: right;\">\n",
       "      <th></th>\n",
       "      <th>name</th>\n",
       "      <th>calories</th>\n",
       "      <th>sodium</th>\n",
       "      <th>alcohol</th>\n",
       "      <th>cost</th>\n",
       "      <th>cluster</th>\n",
       "      <th>cluster2</th>\n",
       "      <th>scaled_cluster</th>\n",
       "    </tr>\n",
       "  </thead>\n",
       "  <tbody>\n",
       "    <tr>\n",
       "      <th>9</th>\n",
       "      <td>Budweiser_Light</td>\n",
       "      <td>113</td>\n",
       "      <td>8</td>\n",
       "      <td>3.7</td>\n",
       "      <td>0.40</td>\n",
       "      <td>0</td>\n",
       "      <td>1</td>\n",
       "      <td>0</td>\n",
       "    </tr>\n",
       "    <tr>\n",
       "      <th>15</th>\n",
       "      <td>Pabst_Extra_Light</td>\n",
       "      <td>68</td>\n",
       "      <td>15</td>\n",
       "      <td>2.3</td>\n",
       "      <td>0.38</td>\n",
       "      <td>2</td>\n",
       "      <td>1</td>\n",
       "      <td>0</td>\n",
       "    </tr>\n",
       "    <tr>\n",
       "      <th>12</th>\n",
       "      <td>Michelob_Light</td>\n",
       "      <td>135</td>\n",
       "      <td>11</td>\n",
       "      <td>4.2</td>\n",
       "      <td>0.50</td>\n",
       "      <td>1</td>\n",
       "      <td>0</td>\n",
       "      <td>0</td>\n",
       "    </tr>\n",
       "    <tr>\n",
       "      <th>11</th>\n",
       "      <td>Coors_Light</td>\n",
       "      <td>102</td>\n",
       "      <td>15</td>\n",
       "      <td>4.1</td>\n",
       "      <td>0.46</td>\n",
       "      <td>0</td>\n",
       "      <td>1</td>\n",
       "      <td>0</td>\n",
       "    </tr>\n",
       "    <tr>\n",
       "      <th>18</th>\n",
       "      <td>Olympia_Goled_Light</td>\n",
       "      <td>72</td>\n",
       "      <td>6</td>\n",
       "      <td>2.9</td>\n",
       "      <td>0.46</td>\n",
       "      <td>2</td>\n",
       "      <td>1</td>\n",
       "      <td>0</td>\n",
       "    </tr>\n",
       "    <tr>\n",
       "      <th>8</th>\n",
       "      <td>Miller_Lite</td>\n",
       "      <td>99</td>\n",
       "      <td>10</td>\n",
       "      <td>4.3</td>\n",
       "      <td>0.43</td>\n",
       "      <td>0</td>\n",
       "      <td>1</td>\n",
       "      <td>0</td>\n",
       "    </tr>\n",
       "    <tr>\n",
       "      <th>19</th>\n",
       "      <td>Schlitz_Light</td>\n",
       "      <td>97</td>\n",
       "      <td>7</td>\n",
       "      <td>4.2</td>\n",
       "      <td>0.47</td>\n",
       "      <td>0</td>\n",
       "      <td>1</td>\n",
       "      <td>0</td>\n",
       "    </tr>\n",
       "    <tr>\n",
       "      <th>2</th>\n",
       "      <td>Lowenbrau</td>\n",
       "      <td>157</td>\n",
       "      <td>15</td>\n",
       "      <td>0.9</td>\n",
       "      <td>0.48</td>\n",
       "      <td>1</td>\n",
       "      <td>0</td>\n",
       "      <td>0</td>\n",
       "    </tr>\n",
       "    <tr>\n",
       "      <th>4</th>\n",
       "      <td>Heineken</td>\n",
       "      <td>152</td>\n",
       "      <td>11</td>\n",
       "      <td>5.0</td>\n",
       "      <td>0.77</td>\n",
       "      <td>1</td>\n",
       "      <td>0</td>\n",
       "      <td>1</td>\n",
       "    </tr>\n",
       "    <tr>\n",
       "      <th>3</th>\n",
       "      <td>Kronenbourg</td>\n",
       "      <td>170</td>\n",
       "      <td>7</td>\n",
       "      <td>5.2</td>\n",
       "      <td>0.73</td>\n",
       "      <td>1</td>\n",
       "      <td>0</td>\n",
       "      <td>1</td>\n",
       "    </tr>\n",
       "    <tr>\n",
       "      <th>13</th>\n",
       "      <td>Becks</td>\n",
       "      <td>150</td>\n",
       "      <td>19</td>\n",
       "      <td>4.7</td>\n",
       "      <td>0.76</td>\n",
       "      <td>1</td>\n",
       "      <td>0</td>\n",
       "      <td>1</td>\n",
       "    </tr>\n",
       "    <tr>\n",
       "      <th>14</th>\n",
       "      <td>Kirin</td>\n",
       "      <td>149</td>\n",
       "      <td>6</td>\n",
       "      <td>5.0</td>\n",
       "      <td>0.79</td>\n",
       "      <td>1</td>\n",
       "      <td>0</td>\n",
       "      <td>1</td>\n",
       "    </tr>\n",
       "    <tr>\n",
       "      <th>7</th>\n",
       "      <td>Srohs_Bohemian_Style</td>\n",
       "      <td>149</td>\n",
       "      <td>27</td>\n",
       "      <td>4.7</td>\n",
       "      <td>0.42</td>\n",
       "      <td>1</td>\n",
       "      <td>0</td>\n",
       "      <td>2</td>\n",
       "    </tr>\n",
       "    <tr>\n",
       "      <th>5</th>\n",
       "      <td>Old_Milwaukee</td>\n",
       "      <td>145</td>\n",
       "      <td>23</td>\n",
       "      <td>4.6</td>\n",
       "      <td>0.28</td>\n",
       "      <td>1</td>\n",
       "      <td>0</td>\n",
       "      <td>2</td>\n",
       "    </tr>\n",
       "    <tr>\n",
       "      <th>10</th>\n",
       "      <td>Coors</td>\n",
       "      <td>140</td>\n",
       "      <td>18</td>\n",
       "      <td>4.6</td>\n",
       "      <td>0.44</td>\n",
       "      <td>1</td>\n",
       "      <td>0</td>\n",
       "      <td>2</td>\n",
       "    </tr>\n",
       "    <tr>\n",
       "      <th>1</th>\n",
       "      <td>Schlitz</td>\n",
       "      <td>151</td>\n",
       "      <td>19</td>\n",
       "      <td>4.9</td>\n",
       "      <td>0.43</td>\n",
       "      <td>1</td>\n",
       "      <td>0</td>\n",
       "      <td>2</td>\n",
       "    </tr>\n",
       "    <tr>\n",
       "      <th>16</th>\n",
       "      <td>Hamms</td>\n",
       "      <td>139</td>\n",
       "      <td>19</td>\n",
       "      <td>4.4</td>\n",
       "      <td>0.43</td>\n",
       "      <td>1</td>\n",
       "      <td>0</td>\n",
       "      <td>2</td>\n",
       "    </tr>\n",
       "    <tr>\n",
       "      <th>17</th>\n",
       "      <td>Heilemans_Old_Style</td>\n",
       "      <td>144</td>\n",
       "      <td>24</td>\n",
       "      <td>4.9</td>\n",
       "      <td>0.43</td>\n",
       "      <td>1</td>\n",
       "      <td>0</td>\n",
       "      <td>2</td>\n",
       "    </tr>\n",
       "    <tr>\n",
       "      <th>6</th>\n",
       "      <td>Augsberger</td>\n",
       "      <td>175</td>\n",
       "      <td>24</td>\n",
       "      <td>5.5</td>\n",
       "      <td>0.40</td>\n",
       "      <td>1</td>\n",
       "      <td>0</td>\n",
       "      <td>2</td>\n",
       "    </tr>\n",
       "    <tr>\n",
       "      <th>0</th>\n",
       "      <td>Budweiser</td>\n",
       "      <td>144</td>\n",
       "      <td>15</td>\n",
       "      <td>4.7</td>\n",
       "      <td>0.43</td>\n",
       "      <td>1</td>\n",
       "      <td>0</td>\n",
       "      <td>2</td>\n",
       "    </tr>\n",
       "  </tbody>\n",
       "</table>\n",
       "</div>"
      ],
      "text/plain": [
       "                    name  calories  sodium  alcohol  cost  cluster  cluster2  \\\n",
       "9        Budweiser_Light       113       8      3.7  0.40        0         1   \n",
       "15     Pabst_Extra_Light        68      15      2.3  0.38        2         1   \n",
       "12        Michelob_Light       135      11      4.2  0.50        1         0   \n",
       "11           Coors_Light       102      15      4.1  0.46        0         1   \n",
       "18   Olympia_Goled_Light        72       6      2.9  0.46        2         1   \n",
       "8            Miller_Lite        99      10      4.3  0.43        0         1   \n",
       "19         Schlitz_Light        97       7      4.2  0.47        0         1   \n",
       "2              Lowenbrau       157      15      0.9  0.48        1         0   \n",
       "4               Heineken       152      11      5.0  0.77        1         0   \n",
       "3            Kronenbourg       170       7      5.2  0.73        1         0   \n",
       "13                 Becks       150      19      4.7  0.76        1         0   \n",
       "14                 Kirin       149       6      5.0  0.79        1         0   \n",
       "7   Srohs_Bohemian_Style       149      27      4.7  0.42        1         0   \n",
       "5          Old_Milwaukee       145      23      4.6  0.28        1         0   \n",
       "10                 Coors       140      18      4.6  0.44        1         0   \n",
       "1                Schlitz       151      19      4.9  0.43        1         0   \n",
       "16                 Hamms       139      19      4.4  0.43        1         0   \n",
       "17   Heilemans_Old_Style       144      24      4.9  0.43        1         0   \n",
       "6             Augsberger       175      24      5.5  0.40        1         0   \n",
       "0              Budweiser       144      15      4.7  0.43        1         0   \n",
       "\n",
       "    scaled_cluster  \n",
       "9                0  \n",
       "15               0  \n",
       "12               0  \n",
       "11               0  \n",
       "18               0  \n",
       "8                0  \n",
       "19               0  \n",
       "2                0  \n",
       "4                1  \n",
       "3                1  \n",
       "13               1  \n",
       "14               1  \n",
       "7                2  \n",
       "5                2  \n",
       "10               2  \n",
       "1                2  \n",
       "16               2  \n",
       "17               2  \n",
       "6                2  \n",
       "0                2  "
      ]
     },
     "execution_count": 25,
     "metadata": {},
     "output_type": "execute_result"
    }
   ],
   "source": [
    "beer[\"scaled_cluster\"]=km.labels_\n",
    "beer.sort_values(\"scaled_cluster\")"
   ]
  },
  {
   "cell_type": "code",
   "execution_count": 26,
   "metadata": {
    "ExecuteTime": {
     "end_time": "2020-07-21T06:58:18.118548Z",
     "start_time": "2020-07-21T06:58:18.105172Z"
    }
   },
   "outputs": [
    {
     "data": {
      "text/html": [
       "<div>\n",
       "<style scoped>\n",
       "    .dataframe tbody tr th:only-of-type {\n",
       "        vertical-align: middle;\n",
       "    }\n",
       "\n",
       "    .dataframe tbody tr th {\n",
       "        vertical-align: top;\n",
       "    }\n",
       "\n",
       "    .dataframe thead th {\n",
       "        text-align: right;\n",
       "    }\n",
       "</style>\n",
       "<table border=\"1\" class=\"dataframe\">\n",
       "  <thead>\n",
       "    <tr style=\"text-align: right;\">\n",
       "      <th></th>\n",
       "      <th>calories</th>\n",
       "      <th>sodium</th>\n",
       "      <th>alcohol</th>\n",
       "      <th>cost</th>\n",
       "      <th>cluster</th>\n",
       "      <th>cluster2</th>\n",
       "    </tr>\n",
       "    <tr>\n",
       "      <th>scaled_cluster</th>\n",
       "      <th></th>\n",
       "      <th></th>\n",
       "      <th></th>\n",
       "      <th></th>\n",
       "      <th></th>\n",
       "      <th></th>\n",
       "    </tr>\n",
       "  </thead>\n",
       "  <tbody>\n",
       "    <tr>\n",
       "      <th>0</th>\n",
       "      <td>105.375</td>\n",
       "      <td>10.875</td>\n",
       "      <td>3.3250</td>\n",
       "      <td>0.4475</td>\n",
       "      <td>0.75</td>\n",
       "      <td>0.75</td>\n",
       "    </tr>\n",
       "    <tr>\n",
       "      <th>1</th>\n",
       "      <td>155.250</td>\n",
       "      <td>10.750</td>\n",
       "      <td>4.9750</td>\n",
       "      <td>0.7625</td>\n",
       "      <td>1.00</td>\n",
       "      <td>0.00</td>\n",
       "    </tr>\n",
       "    <tr>\n",
       "      <th>2</th>\n",
       "      <td>148.375</td>\n",
       "      <td>21.125</td>\n",
       "      <td>4.7875</td>\n",
       "      <td>0.4075</td>\n",
       "      <td>1.00</td>\n",
       "      <td>0.00</td>\n",
       "    </tr>\n",
       "  </tbody>\n",
       "</table>\n",
       "</div>"
      ],
      "text/plain": [
       "                calories  sodium  alcohol    cost  cluster  cluster2\n",
       "scaled_cluster                                                      \n",
       "0                105.375  10.875   3.3250  0.4475     0.75      0.75\n",
       "1                155.250  10.750   4.9750  0.7625     1.00      0.00\n",
       "2                148.375  21.125   4.7875  0.4075     1.00      0.00"
      ]
     },
     "execution_count": 26,
     "metadata": {},
     "output_type": "execute_result"
    }
   ],
   "source": [
    "beer.groupby(\"scaled_cluster\").mean()"
   ]
  },
  {
   "cell_type": "code",
   "execution_count": 28,
   "metadata": {
    "ExecuteTime": {
     "end_time": "2020-07-21T06:59:25.062689Z",
     "start_time": "2020-07-21T06:59:24.066357Z"
    }
   },
   "outputs": [
    {
     "data": {
      "text/plain": [
       "Text(0.5, 0.98, 'with 3 centroids initialized')"
      ]
     },
     "execution_count": 28,
     "metadata": {},
     "output_type": "execute_result"
    },
    {
     "data": {
      "image/png": "[encoded data removed]",
      "text/plain": [
       "<Figure size 720x720 with 16 Axes>"
      ]
     },
     "metadata": {
      "needs_background": "light"
     },
     "output_type": "display_data"
    }
   ],
   "source": [
    "scatter_matrix(beer[[\"calories\",\"sodium\",\"alcohol\",\"cost\"]],s=100,alpha=1,c=colors[beer[\"scaled_cluster\"]],figsize=(10,10))\n",
    "plt.suptitle(\"with 3 centroids initialized\")"
   ]
  },
  {
   "cell_type": "markdown",
   "metadata": {},
   "source": [
    "# 聚类评估 轮廓系数"
   ]
  },
  {
   "cell_type": "code",
   "execution_count": 29,
   "metadata": {
    "ExecuteTime": {
     "end_time": "2020-07-21T07:04:51.940800Z",
     "start_time": "2020-07-21T07:04:51.929852Z"
    }
   },
   "outputs": [
    {
     "name": "stdout",
     "output_type": "stream",
     "text": [
      "0.1797806808940007 0.6731775046455796\n"
     ]
    }
   ],
   "source": [
    "from sklearn import metrics\n",
    "score_scaled = metrics.silhouette_score(x,beer.scaled_cluster)\n",
    "score = metrics.silhouette_score(x,beer.cluster)\n",
    "print(score_scaled,score)"
   ]
  },
  {
   "cell_type": "code",
   "execution_count": 30,
   "metadata": {
    "ExecuteTime": {
     "end_time": "2020-07-21T07:07:16.405141Z",
     "start_time": "2020-07-21T07:07:15.660278Z"
    }
   },
   "outputs": [
    {
     "data": {
      "text/plain": [
       "[0.6917656034079486,\n",
       " 0.6731775046455796,\n",
       " 0.5857040721127795,\n",
       " 0.422548733517202,\n",
       " 0.4559182167013377,\n",
       " 0.43776116697963124,\n",
       " 0.38946337473125997,\n",
       " 0.39746405172426014,\n",
       " 0.4081599013899603,\n",
       " 0.32472080133848924,\n",
       " 0.3459775237127248,\n",
       " 0.31221439248428434,\n",
       " 0.30707782144770296,\n",
       " 0.31834561839139497,\n",
       " 0.2849514001174898,\n",
       " 0.23498077333071996,\n",
       " 0.1588091017496281,\n",
       " 0.08423051380151177]"
      ]
     },
     "execution_count": 30,
     "metadata": {},
     "output_type": "execute_result"
    }
   ],
   "source": [
    "scores = []\n",
    "for k in range(2,20):\n",
    "    labels = KMeans(n_clusters=k).fit(x).labels_\n",
    "    score = metrics.silhouette_score(x,labels)\n",
    "    scores.append(score)\n",
    "\n",
    "scores"
   ]
  },
  {
   "cell_type": "code",
   "execution_count": 31,
   "metadata": {
    "ExecuteTime": {
     "end_time": "2020-07-21T07:09:00.330052Z",
     "start_time": "2020-07-21T07:09:00.196134Z"
    }
   },
   "outputs": [
    {
     "data": {
      "text/plain": [
       "Text(0, 0.5, 'Sihouette Score')"
      ]
     },
     "execution_count": 31,
     "metadata": {},
     "output_type": "execute_result"
    },
    {
     "data": {
      "image/png": "[encoded data removed]",
      "text/plain": [
       "<Figure size 432x288 with 1 Axes>"
      ]
     },
     "metadata": {
      "needs_background": "light"
     },
     "output_type": "display_data"
    }
   ],
   "source": [
    "plt.plot(list(range(2,20)),scores)\n",
    "plt.xlabel(\"Number of Cluster Initialized\")\n",
    "plt.ylabel(\"Sihouette Score\")"
   ]
  },
  {
   "cell_type": "markdown",
   "metadata": {},
   "source": [
    "# DBSCAN clustering"
   ]
  },
  {
   "cell_type": "code",
   "execution_count": 32,
   "metadata": {
    "ExecuteTime": {
     "end_time": "2020-07-21T07:10:34.869265Z",
     "start_time": "2020-07-21T07:10:34.861605Z"
    }
   },
   "outputs": [],
   "source": [
    "from sklearn.cluster import DBSCAN\n",
    "db = DBSCAN(eps=10,min_samples=2).fit(x)"
   ]
  },
  {
   "cell_type": "code",
   "execution_count": 33,
   "metadata": {
    "ExecuteTime": {
     "end_time": "2020-07-21T07:10:46.920367Z",
     "start_time": "2020-07-21T07:10:46.917855Z"
    }
   },
   "outputs": [],
   "source": [
    "labels = db.labels_"
   ]
  },
  {
   "cell_type": "code",
   "execution_count": 34,
   "metadata": {
    "ExecuteTime": {
     "end_time": "2020-07-21T07:11:31.643504Z",
     "start_time": "2020-07-21T07:11:31.628418Z"
    }
   },
   "outputs": [
    {
     "data": {
      "text/html": [
       "<div>\n",
       "<style scoped>\n",
       "    .dataframe tbody tr th:only-of-type {\n",
       "        vertical-align: middle;\n",
       "    }\n",
       "\n",
       "    .dataframe tbody tr th {\n",
       "        vertical-align: top;\n",
       "    }\n",
       "\n",
       "    .dataframe thead th {\n",
       "        text-align: right;\n",
       "    }\n",
       "</style>\n",
       "<table border=\"1\" class=\"dataframe\">\n",
       "  <thead>\n",
       "    <tr style=\"text-align: right;\">\n",
       "      <th></th>\n",
       "      <th>name</th>\n",
       "      <th>calories</th>\n",
       "      <th>sodium</th>\n",
       "      <th>alcohol</th>\n",
       "      <th>cost</th>\n",
       "      <th>cluster</th>\n",
       "      <th>cluster2</th>\n",
       "      <th>scaled_cluster</th>\n",
       "      <th>cluster_db</th>\n",
       "    </tr>\n",
       "  </thead>\n",
       "  <tbody>\n",
       "    <tr>\n",
       "      <th>9</th>\n",
       "      <td>Budweiser_Light</td>\n",
       "      <td>113</td>\n",
       "      <td>8</td>\n",
       "      <td>3.7</td>\n",
       "      <td>0.40</td>\n",
       "      <td>0</td>\n",
       "      <td>1</td>\n",
       "      <td>0</td>\n",
       "      <td>-1</td>\n",
       "    </tr>\n",
       "    <tr>\n",
       "      <th>3</th>\n",
       "      <td>Kronenbourg</td>\n",
       "      <td>170</td>\n",
       "      <td>7</td>\n",
       "      <td>5.2</td>\n",
       "      <td>0.73</td>\n",
       "      <td>1</td>\n",
       "      <td>0</td>\n",
       "      <td>1</td>\n",
       "      <td>-1</td>\n",
       "    </tr>\n",
       "    <tr>\n",
       "      <th>6</th>\n",
       "      <td>Augsberger</td>\n",
       "      <td>175</td>\n",
       "      <td>24</td>\n",
       "      <td>5.5</td>\n",
       "      <td>0.40</td>\n",
       "      <td>1</td>\n",
       "      <td>0</td>\n",
       "      <td>2</td>\n",
       "      <td>-1</td>\n",
       "    </tr>\n",
       "    <tr>\n",
       "      <th>17</th>\n",
       "      <td>Heilemans_Old_Style</td>\n",
       "      <td>144</td>\n",
       "      <td>24</td>\n",
       "      <td>4.9</td>\n",
       "      <td>0.43</td>\n",
       "      <td>1</td>\n",
       "      <td>0</td>\n",
       "      <td>2</td>\n",
       "      <td>0</td>\n",
       "    </tr>\n",
       "    <tr>\n",
       "      <th>16</th>\n",
       "      <td>Hamms</td>\n",
       "      <td>139</td>\n",
       "      <td>19</td>\n",
       "      <td>4.4</td>\n",
       "      <td>0.43</td>\n",
       "      <td>1</td>\n",
       "      <td>0</td>\n",
       "      <td>2</td>\n",
       "      <td>0</td>\n",
       "    </tr>\n",
       "    <tr>\n",
       "      <th>14</th>\n",
       "      <td>Kirin</td>\n",
       "      <td>149</td>\n",
       "      <td>6</td>\n",
       "      <td>5.0</td>\n",
       "      <td>0.79</td>\n",
       "      <td>1</td>\n",
       "      <td>0</td>\n",
       "      <td>1</td>\n",
       "      <td>0</td>\n",
       "    </tr>\n",
       "    <tr>\n",
       "      <th>13</th>\n",
       "      <td>Becks</td>\n",
       "      <td>150</td>\n",
       "      <td>19</td>\n",
       "      <td>4.7</td>\n",
       "      <td>0.76</td>\n",
       "      <td>1</td>\n",
       "      <td>0</td>\n",
       "      <td>1</td>\n",
       "      <td>0</td>\n",
       "    </tr>\n",
       "    <tr>\n",
       "      <th>12</th>\n",
       "      <td>Michelob_Light</td>\n",
       "      <td>135</td>\n",
       "      <td>11</td>\n",
       "      <td>4.2</td>\n",
       "      <td>0.50</td>\n",
       "      <td>1</td>\n",
       "      <td>0</td>\n",
       "      <td>0</td>\n",
       "      <td>0</td>\n",
       "    </tr>\n",
       "    <tr>\n",
       "      <th>10</th>\n",
       "      <td>Coors</td>\n",
       "      <td>140</td>\n",
       "      <td>18</td>\n",
       "      <td>4.6</td>\n",
       "      <td>0.44</td>\n",
       "      <td>1</td>\n",
       "      <td>0</td>\n",
       "      <td>2</td>\n",
       "      <td>0</td>\n",
       "    </tr>\n",
       "    <tr>\n",
       "      <th>0</th>\n",
       "      <td>Budweiser</td>\n",
       "      <td>144</td>\n",
       "      <td>15</td>\n",
       "      <td>4.7</td>\n",
       "      <td>0.43</td>\n",
       "      <td>1</td>\n",
       "      <td>0</td>\n",
       "      <td>2</td>\n",
       "      <td>0</td>\n",
       "    </tr>\n",
       "    <tr>\n",
       "      <th>7</th>\n",
       "      <td>Srohs_Bohemian_Style</td>\n",
       "      <td>149</td>\n",
       "      <td>27</td>\n",
       "      <td>4.7</td>\n",
       "      <td>0.42</td>\n",
       "      <td>1</td>\n",
       "      <td>0</td>\n",
       "      <td>2</td>\n",
       "      <td>0</td>\n",
       "    </tr>\n",
       "    <tr>\n",
       "      <th>5</th>\n",
       "      <td>Old_Milwaukee</td>\n",
       "      <td>145</td>\n",
       "      <td>23</td>\n",
       "      <td>4.6</td>\n",
       "      <td>0.28</td>\n",
       "      <td>1</td>\n",
       "      <td>0</td>\n",
       "      <td>2</td>\n",
       "      <td>0</td>\n",
       "    </tr>\n",
       "    <tr>\n",
       "      <th>4</th>\n",
       "      <td>Heineken</td>\n",
       "      <td>152</td>\n",
       "      <td>11</td>\n",
       "      <td>5.0</td>\n",
       "      <td>0.77</td>\n",
       "      <td>1</td>\n",
       "      <td>0</td>\n",
       "      <td>1</td>\n",
       "      <td>0</td>\n",
       "    </tr>\n",
       "    <tr>\n",
       "      <th>2</th>\n",
       "      <td>Lowenbrau</td>\n",
       "      <td>157</td>\n",
       "      <td>15</td>\n",
       "      <td>0.9</td>\n",
       "      <td>0.48</td>\n",
       "      <td>1</td>\n",
       "      <td>0</td>\n",
       "      <td>0</td>\n",
       "      <td>0</td>\n",
       "    </tr>\n",
       "    <tr>\n",
       "      <th>1</th>\n",
       "      <td>Schlitz</td>\n",
       "      <td>151</td>\n",
       "      <td>19</td>\n",
       "      <td>4.9</td>\n",
       "      <td>0.43</td>\n",
       "      <td>1</td>\n",
       "      <td>0</td>\n",
       "      <td>2</td>\n",
       "      <td>0</td>\n",
       "    </tr>\n",
       "    <tr>\n",
       "      <th>8</th>\n",
       "      <td>Miller_Lite</td>\n",
       "      <td>99</td>\n",
       "      <td>10</td>\n",
       "      <td>4.3</td>\n",
       "      <td>0.43</td>\n",
       "      <td>0</td>\n",
       "      <td>1</td>\n",
       "      <td>0</td>\n",
       "      <td>1</td>\n",
       "    </tr>\n",
       "    <tr>\n",
       "      <th>11</th>\n",
       "      <td>Coors_Light</td>\n",
       "      <td>102</td>\n",
       "      <td>15</td>\n",
       "      <td>4.1</td>\n",
       "      <td>0.46</td>\n",
       "      <td>0</td>\n",
       "      <td>1</td>\n",
       "      <td>0</td>\n",
       "      <td>1</td>\n",
       "    </tr>\n",
       "    <tr>\n",
       "      <th>19</th>\n",
       "      <td>Schlitz_Light</td>\n",
       "      <td>97</td>\n",
       "      <td>7</td>\n",
       "      <td>4.2</td>\n",
       "      <td>0.47</td>\n",
       "      <td>0</td>\n",
       "      <td>1</td>\n",
       "      <td>0</td>\n",
       "      <td>1</td>\n",
       "    </tr>\n",
       "    <tr>\n",
       "      <th>15</th>\n",
       "      <td>Pabst_Extra_Light</td>\n",
       "      <td>68</td>\n",
       "      <td>15</td>\n",
       "      <td>2.3</td>\n",
       "      <td>0.38</td>\n",
       "      <td>2</td>\n",
       "      <td>1</td>\n",
       "      <td>0</td>\n",
       "      <td>2</td>\n",
       "    </tr>\n",
       "    <tr>\n",
       "      <th>18</th>\n",
       "      <td>Olympia_Goled_Light</td>\n",
       "      <td>72</td>\n",
       "      <td>6</td>\n",
       "      <td>2.9</td>\n",
       "      <td>0.46</td>\n",
       "      <td>2</td>\n",
       "      <td>1</td>\n",
       "      <td>0</td>\n",
       "      <td>2</td>\n",
       "    </tr>\n",
       "  </tbody>\n",
       "</table>\n",
       "</div>"
      ],
      "text/plain": [
       "                    name  calories  sodium  alcohol  cost  cluster  cluster2  \\\n",
       "9        Budweiser_Light       113       8      3.7  0.40        0         1   \n",
       "3            Kronenbourg       170       7      5.2  0.73        1         0   \n",
       "6             Augsberger       175      24      5.5  0.40        1         0   \n",
       "17   Heilemans_Old_Style       144      24      4.9  0.43        1         0   \n",
       "16                 Hamms       139      19      4.4  0.43        1         0   \n",
       "14                 Kirin       149       6      5.0  0.79        1         0   \n",
       "13                 Becks       150      19      4.7  0.76        1         0   \n",
       "12        Michelob_Light       135      11      4.2  0.50        1         0   \n",
       "10                 Coors       140      18      4.6  0.44        1         0   \n",
       "0              Budweiser       144      15      4.7  0.43        1         0   \n",
       "7   Srohs_Bohemian_Style       149      27      4.7  0.42        1         0   \n",
       "5          Old_Milwaukee       145      23      4.6  0.28        1         0   \n",
       "4               Heineken       152      11      5.0  0.77        1         0   \n",
       "2              Lowenbrau       157      15      0.9  0.48        1         0   \n",
       "1                Schlitz       151      19      4.9  0.43        1         0   \n",
       "8            Miller_Lite        99      10      4.3  0.43        0         1   \n",
       "11           Coors_Light       102      15      4.1  0.46        0         1   \n",
       "19         Schlitz_Light        97       7      4.2  0.47        0         1   \n",
       "15     Pabst_Extra_Light        68      15      2.3  0.38        2         1   \n",
       "18   Olympia_Goled_Light        72       6      2.9  0.46        2         1   \n",
       "\n",
       "    scaled_cluster  cluster_db  \n",
       "9                0          -1  \n",
       "3                1          -1  \n",
       "6                2          -1  \n",
       "17               2           0  \n",
       "16               2           0  \n",
       "14               1           0  \n",
       "13               1           0  \n",
       "12               0           0  \n",
       "10               2           0  \n",
       "0                2           0  \n",
       "7                2           0  \n",
       "5                2           0  \n",
       "4                1           0  \n",
       "2                0           0  \n",
       "1                2           0  \n",
       "8                0           1  \n",
       "11               0           1  \n",
       "19               0           1  \n",
       "15               0           2  \n",
       "18               0           2  "
      ]
     },
     "execution_count": 34,
     "metadata": {},
     "output_type": "execute_result"
    }
   ],
   "source": [
    "beer[\"cluster_db\"] = labels\n",
    "beer.sort_values(\"cluster_db\")"
   ]
  },
  {
   "cell_type": "code",
   "execution_count": 37,
   "metadata": {
    "ExecuteTime": {
     "end_time": "2020-07-21T07:13:32.503607Z",
     "start_time": "2020-07-21T07:13:32.358451Z"
    }
   },
   "outputs": [
    {
     "data": {
      "text/plain": [
       "Text(0, 0.5, 'Alcohol')"
      ]
     },
     "execution_count": 37,
     "metadata": {},
     "output_type": "execute_result"
    },
    {
     "data": {
      "image/png": "[encoded data removed]",
      "text/plain": [
       "<Figure size 432x288 with 1 Axes>"
      ]
     },
     "metadata": {
      "needs_background": "light"
     },
     "output_type": "display_data"
    }
   ],
   "source": [
    "%matplotlib inline\n",
    "import matplotlib.pyplot as plt\n",
    "plt.rcParams[\"font.size\"] = 14\n",
    "\n",
    "\n",
    "plt.scatter(beer[\"calories\"],beer[\"alcohol\"],c=colors[beer[\"cluster_db\"]])\n",
    "plt.scatter(centers.calories,centers.alcohol,linewidth=3,marker=\"+\",s=300,c=\"black\")\n",
    "\n",
    "plt.xlabel(\"Calories\")\n",
    "plt.ylabel(\"Alcohol\")"
   ]
  },
  {
   "cell_type": "code",
   "execution_count": 38,
   "metadata": {
    "ExecuteTime": {
     "end_time": "2020-07-21T07:14:10.565746Z",
     "start_time": "2020-07-21T07:14:09.551060Z"
    }
   },
   "outputs": [
    {
     "data": {
      "text/plain": [
       "Text(0.5, 0.98, 'with db initialized')"
      ]
     },
     "execution_count": 38,
     "metadata": {},
     "output_type": "execute_result"
    },
    {
     "data": {
      "image/png": "[encoded data removed]",
      "text/plain": [
       "<Figure size 720x720 with 16 Axes>"
      ]
     },
     "metadata": {
      "needs_background": "light"
     },
     "output_type": "display_data"
    }
   ],
   "source": [
    "scatter_matrix(beer[[\"calories\",\"sodium\",\"alcohol\",\"cost\"]],s=100,alpha=1,c=colors[beer[\"cluster_db\"]],figsize=(10,10))\n",
    "plt.suptitle(\"with db initialized\")"
   ]
  },
  {
   "cell_type": "code",
   "execution_count": null,
   "metadata": {},
   "outputs": [],
   "source": []
  }
 ],
 "metadata": {
  "kernelspec": {
   "display_name": "Python 3.6.9 64-bit",
   "language": "python",
   "name": "python36964bit7e091a4bc7ad4c03b45358b2d91294f7"
  },
  "language_info": {
   "codemirror_mode": {
    "name": "ipython",
    "version": 3
   },
   "file_extension": ".py",
   "mimetype": "text/x-python",
   "name": "python",
   "nbconvert_exporter": "python",
   "pygments_lexer": "ipython3",
   "version": "3.6.9"
  },
  "toc": {
   "base_numbering": 1,
   "nav_menu": {},
   "number_sections": true,
   "sideBar": true,
   "skip_h1_title": false,
   "title_cell": "Table of Contents",
   "title_sidebar": "Contents",
   "toc_cell": false,
   "toc_position": {},
   "toc_section_display": true,
   "toc_window_display": false
  },
  "varInspector": {
   "cols": {
    "lenName": 16,
    "lenType": 16,
    "lenVar": 40
   },
   "kernels_config": {
    "python": {
     "delete_cmd_postfix": "",
     "delete_cmd_prefix": "del ",
     "library": "var_list.py",
     "varRefreshCmd": "print(var_dic_list())"
    },
    "r": {
     "delete_cmd_postfix": ") ",
     "delete_cmd_prefix": "rm(",
     "library": "var_list.r",
     "varRefreshCmd": "cat(var_dic_list()) "
    }
   },
   "types_to_exclude": [
    "module",
    "function",
    "builtin_function_or_method",
    "instance",
    "_Feature"
   ],
   "window_display": false
  }
 },
 "nbformat": 4,
 "nbformat_minor": 4
}
