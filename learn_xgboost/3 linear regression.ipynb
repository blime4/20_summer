{
 "cells": [
  {
   "cell_type": "code",
   "execution_count": 1,
   "metadata": {
    "ExecuteTime": {
     "end_time": "2020-07-14T03:46:24.399571Z",
     "start_time": "2020-07-14T03:46:24.329146Z"
    }
   },
   "outputs": [],
   "source": [
    "from sklearn import datasets\n",
    "\n",
    "boston = datasets.load_boston()\n",
    "X = boston.data\n",
    "y = boston.target"
   ]
  },
  {
   "cell_type": "code",
   "execution_count": 2,
   "metadata": {
    "ExecuteTime": {
     "end_time": "2020-07-14T03:48:05.743691Z",
     "start_time": "2020-07-14T03:48:05.736297Z"
    }
   },
   "outputs": [],
   "source": [
    "from sklearn.model_selection import train_test_split\n",
    "\n",
    "X_train, X_test, y_train, y_test = train_test_split(\n",
    "    X, y, test_size=1/5.0, random_state=8)"
   ]
  },
  {
   "cell_type": "code",
   "execution_count": 3,
   "metadata": {
    "ExecuteTime": {
     "end_time": "2020-07-14T03:48:45.670523Z",
     "start_time": "2020-07-14T03:48:45.657493Z"
    }
   },
   "outputs": [
    {
     "data": {
      "text/plain": [
       "((404, 13), (102, 13))"
      ]
     },
     "execution_count": 3,
     "metadata": {},
     "output_type": "execute_result"
    }
   ],
   "source": [
    "X_train.shape,X_test.shape"
   ]
  },
  {
   "cell_type": "code",
   "execution_count": 4,
   "metadata": {
    "ExecuteTime": {
     "end_time": "2020-07-14T03:50:19.756494Z",
     "start_time": "2020-07-14T03:50:19.752965Z"
    }
   },
   "outputs": [],
   "source": [
    "from sklearn.linear_model import LinearRegression\n",
    "from sklearn.model_selection import cross_val_score\n",
    "from sklearn.metrics import mean_squared_error"
   ]
  },
  {
   "cell_type": "code",
   "execution_count": 6,
   "metadata": {
    "ExecuteTime": {
     "end_time": "2020-07-14T03:51:34.258116Z",
     "start_time": "2020-07-14T03:51:34.232387Z"
    }
   },
   "outputs": [
    {
     "data": {
      "text/plain": [
       "LinearRegression()"
      ]
     },
     "execution_count": 6,
     "metadata": {},
     "output_type": "execute_result"
    }
   ],
   "source": [
    "lr = LinearRegression()\n",
    "lr.fit(X_train,y_train)"
   ]
  },
  {
   "cell_type": "code",
   "execution_count": 7,
   "metadata": {
    "ExecuteTime": {
     "end_time": "2020-07-14T03:52:50.437272Z",
     "start_time": "2020-07-14T03:52:50.431785Z"
    }
   },
   "outputs": [
    {
     "name": "stdout",
     "output_type": "stream",
     "text": [
      "Mse:21.6382\n"
     ]
    }
   ],
   "source": [
    "y_pred = lr.predict(X_test)\n",
    "\n",
    "mse = mean_squared_error(y_test,y_pred)\n",
    "\n",
    "print(\"Mse:{:.4f}\".format(mse))"
   ]
  },
  {
   "cell_type": "code",
   "execution_count": 8,
   "metadata": {
    "ExecuteTime": {
     "end_time": "2020-07-14T03:54:07.584339Z",
     "start_time": "2020-07-14T03:54:07.096975Z"
    }
   },
   "outputs": [],
   "source": [
    "import xgboost as xgb"
   ]
  },
  {
   "cell_type": "code",
   "execution_count": 9,
   "metadata": {
    "ExecuteTime": {
     "end_time": "2020-07-14T03:55:00.264613Z",
     "start_time": "2020-07-14T03:55:00.249716Z"
    }
   },
   "outputs": [],
   "source": [
    "xgb_train = xgb.DMatrix(X_train,y_train)\n",
    "xgb_test = xgb.DMatrix(X_test,y_test)"
   ]
  },
  {
   "cell_type": "code",
   "execution_count": 10,
   "metadata": {
    "ExecuteTime": {
     "end_time": "2020-07-14T03:57:28.327694Z",
     "start_time": "2020-07-14T03:57:28.298409Z"
    }
   },
   "outputs": [
    {
     "name": "stdout",
     "output_type": "stream",
     "text": [
      "[0]\ttrain-rmse:8.98780\ttest-rmse:8.56611\n",
      "[1]\ttrain-rmse:8.19687\ttest-rmse:7.82705\n",
      "[2]\ttrain-rmse:7.86695\ttest-rmse:7.55199\n",
      "[3]\ttrain-rmse:7.63160\ttest-rmse:7.27468\n",
      "[4]\ttrain-rmse:7.43432\ttest-rmse:7.04482\n",
      "[5]\ttrain-rmse:7.26056\ttest-rmse:6.85007\n",
      "[6]\ttrain-rmse:7.10598\ttest-rmse:6.68223\n",
      "[7]\ttrain-rmse:6.96725\ttest-rmse:6.54318\n",
      "[8]\ttrain-rmse:6.84229\ttest-rmse:6.41750\n",
      "[9]\ttrain-rmse:6.73012\ttest-rmse:6.30689\n"
     ]
    }
   ],
   "source": [
    "params = {\"objective\":\"reg:squarederror\",\"booster\":\"gblinear\"}\n",
    "\n",
    "watchlist = [(xgb_train,'train'),(xgb_test,'test')]\n",
    "\n",
    "model = xgb.train(params,xgb_train,evals=watchlist)"
   ]
  },
  {
   "cell_type": "code",
   "execution_count": 11,
   "metadata": {
    "ExecuteTime": {
     "end_time": "2020-07-14T03:57:42.772046Z",
     "start_time": "2020-07-14T03:57:39.746305Z"
    }
   },
   "outputs": [
    {
     "name": "stdout",
     "output_type": "stream",
     "text": [
      "\n",
      "\u001b[?25l\u001b[36m⠋\u001b[39m \u001b[2K\u001b[1G\u001b[36m⠙\u001b[39m \u001b[2K\u001b[1G\u001b[36m⠹\u001b[39m  evals \u001b[90m ~  iciba.com\u001b[39m\n",
      " \n",
      " \u001b[90m -------- \u001b[39m\n",
      " \n",
      " EVALS\u001b[90m  ~  fanyi.youdao.com\u001b[39m\n",
      " \n",
      " \u001b[90m1. \u001b[39m\u001b[90m\u001b[39m\u001b[33mEVALS\u001b[39m\u001b[90m\u001b[39m\n",
      "    \u001b[36m返回当前成员及下属所有成员\u001b[39m\n",
      " \n",
      " \u001b[90m -------- \u001b[39m\n",
      " \n",
      "\u001b[2K\u001b[1G\u001b[36m⠸\u001b[39m \u001b[2K\u001b[1G\u001b[36m⠼\u001b[39m \u001b[2K\u001b[1G\u001b[36m⠴\u001b[39m \u001b[2K\u001b[1G\u001b[36m⠦\u001b[39m \u001b[2K\u001b[1G\u001b[36m⠧\u001b[39m \u001b[2K\u001b[1G\u001b[36m⠇\u001b[39m \u001b[2K\u001b[1G\u001b[36m⠏\u001b[39m \u001b[2K\u001b[1G\u001b[36m⠋\u001b[39m \u001b[2K\u001b[1G\u001b[36m⠙\u001b[39m \u001b[2K\u001b[1G\u001b[36m⠹\u001b[39m \u001b[2K\u001b[1G\u001b[36m⠸\u001b[39m \u001b[2K\u001b[1G\u001b[36m⠼\u001b[39m \u001b[2K\u001b[1G\u001b[36m⠴\u001b[39m \u001b[2K\u001b[1G\u001b[36m⠦\u001b[39m \u001b[2K\u001b[1G\u001b[36m⠧\u001b[39m \u001b[2K\u001b[1G\u001b[36m⠇\u001b[39m \u001b[2K\u001b[1G\u001b[36m⠏\u001b[39m \u001b[2K\u001b[1G\u001b[36m⠋\u001b[39m \u001b[2K\u001b[1G\u001b[36m⠙\u001b[39m \u001b[2K\u001b[1G\u001b[36m⠹\u001b[39m \u001b[2K\u001b[1G\u001b[36m⠸\u001b[39m \u001b[2K\u001b[1G\u001b[36m⠼\u001b[39m \u001b[2K\u001b[1G\u001b[36m⠴\u001b[39m \u001b[2K\u001b[1G\u001b[36m⠦\u001b[39m \u001b[2K\u001b[1G\u001b[36m⠧\u001b[39m \u001b[2K\u001b[1G\u001b[36m⠇\u001b[39m \u001b[2K\u001b[1G\u001b[36m⠏\u001b[39m \u001b[2K\u001b[1G\u001b[36m⠋\u001b[39m \u001b[2K\u001b[1G\u001b[36m⠙\u001b[39m \u001b[2K\u001b[1G\u001b[36m⠹\u001b[39m  evals\u001b[90m  ~  dictionaryapi.com\u001b[39m\n",
      " \n",
      "\u001b[2K\u001b[1G\u001b[?25h\u001b[?25h"
     ]
    }
   ],
   "source": [
    "!fy evals"
   ]
  },
  {
   "cell_type": "code",
   "execution_count": null,
   "metadata": {},
   "outputs": [],
   "source": []
  }
 ],
 "metadata": {
  "kernelspec": {
   "display_name": "Python 3.6.9 64-bit",
   "language": "python",
   "name": "python36964bit7e091a4bc7ad4c03b45358b2d91294f7"
  },
  "language_info": {
   "codemirror_mode": {
    "name": "ipython",
    "version": 3
   },
   "file_extension": ".py",
   "mimetype": "text/x-python",
   "name": "python",
   "nbconvert_exporter": "python",
   "pygments_lexer": "ipython3",
   "version": "3.6.9"
  },
  "toc": {
   "base_numbering": 1,
   "nav_menu": {},
   "number_sections": true,
   "sideBar": true,
   "skip_h1_title": false,
   "title_cell": "Table of Contents",
   "title_sidebar": "Contents",
   "toc_cell": false,
   "toc_position": {},
   "toc_section_display": true,
   "toc_window_display": false
  },
  "varInspector": {
   "cols": {
    "lenName": 16,
    "lenType": 16,
    "lenVar": 40
   },
   "kernels_config": {
    "python": {
     "delete_cmd_postfix": "",
     "delete_cmd_prefix": "del ",
     "library": "var_list.py",
     "varRefreshCmd": "print(var_dic_list())"
    },
    "r": {
     "delete_cmd_postfix": ") ",
     "delete_cmd_prefix": "rm(",
     "library": "var_list.r",
     "varRefreshCmd": "cat(var_dic_list()) "
    }
   },
   "types_to_exclude": [
    "module",
    "function",
    "builtin_function_or_method",
    "instance",
    "_Feature"
   ],
   "window_display": false
  }
 },
 "nbformat": 4,
 "nbformat_minor": 4
}
