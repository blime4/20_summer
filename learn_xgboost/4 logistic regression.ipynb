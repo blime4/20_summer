{
 "cells": [
  {
   "cell_type": "code",
   "execution_count": 1,
   "metadata": {
    "ExecuteTime": {
     "end_time": "2020-07-14T04:02:23.836149Z",
     "start_time": "2020-07-14T04:02:23.787364Z"
    }
   },
   "outputs": [],
   "source": [
    "from sklearn import datasets"
   ]
  },
  {
   "cell_type": "code",
   "execution_count": 2,
   "metadata": {
    "ExecuteTime": {
     "end_time": "2020-07-14T04:03:12.721023Z",
     "start_time": "2020-07-14T04:03:12.708273Z"
    }
   },
   "outputs": [],
   "source": [
    "cancer = datasets.load_breast_cancer()\n",
    "x = cancer.data\n",
    "y = cancer.target"
   ]
  },
  {
   "cell_type": "code",
   "execution_count": 3,
   "metadata": {
    "ExecuteTime": {
     "end_time": "2020-07-14T04:03:30.101186Z",
     "start_time": "2020-07-14T04:03:30.098431Z"
    }
   },
   "outputs": [],
   "source": [
    "from sklearn.model_selection import train_test_split"
   ]
  },
  {
   "cell_type": "code",
   "execution_count": 4,
   "metadata": {
    "ExecuteTime": {
     "end_time": "2020-07-14T04:04:16.057986Z",
     "start_time": "2020-07-14T04:04:16.051330Z"
    }
   },
   "outputs": [],
   "source": [
    "x_train,x_test,y_train,y_test = train_test_split(x,y,test_size=1/5.0,random_state=8)"
   ]
  },
  {
   "cell_type": "code",
   "execution_count": 5,
   "metadata": {
    "ExecuteTime": {
     "end_time": "2020-07-14T04:04:50.049205Z",
     "start_time": "2020-07-14T04:04:50.043750Z"
    }
   },
   "outputs": [],
   "source": [
    "from sklearn.linear_model import LogisticRegression"
   ]
  },
  {
   "cell_type": "code",
   "execution_count": 6,
   "metadata": {
    "ExecuteTime": {
     "end_time": "2020-07-14T04:05:32.538894Z",
     "start_time": "2020-07-14T04:05:32.468619Z"
    }
   },
   "outputs": [
    {
     "name": "stderr",
     "output_type": "stream",
     "text": [
      "/usr/local/lib/python3.6/dist-packages/sklearn/linear_model/_logistic.py:764: ConvergenceWarning: lbfgs failed to converge (status=1):\n",
      "STOP: TOTAL NO. of ITERATIONS REACHED LIMIT.\n",
      "\n",
      "Increase the number of iterations (max_iter) or scale the data as shown in:\n",
      "    https://scikit-learn.org/stable/modules/preprocessing.html\n",
      "Please also refer to the documentation for alternative solver options:\n",
      "    https://scikit-learn.org/stable/modules/linear_model.html#logistic-regression\n",
      "  extra_warning_msg=_LOGISTIC_SOLVER_CONVERGENCE_MSG)\n"
     ]
    }
   ],
   "source": [
    "lr = LogisticRegression()\n",
    "lr.fit(x_train,y_train)\n",
    "\n",
    "y_pred = lr.predict(x_test)"
   ]
  },
  {
   "cell_type": "code",
   "execution_count": 7,
   "metadata": {
    "ExecuteTime": {
     "end_time": "2020-07-14T04:07:35.548080Z",
     "start_time": "2020-07-14T04:07:35.540567Z"
    }
   },
   "outputs": [
    {
     "name": "stdout",
     "output_type": "stream",
     "text": [
      "Acc:97.37%\n"
     ]
    }
   ],
   "source": [
    "print(\"Acc:{:.2f}%\".format((y_pred==y_test).sum()/len(y_pred)*100))"
   ]
  },
  {
   "cell_type": "code",
   "execution_count": 8,
   "metadata": {
    "ExecuteTime": {
     "end_time": "2020-07-14T04:09:36.631478Z",
     "start_time": "2020-07-14T04:09:36.422815Z"
    }
   },
   "outputs": [],
   "source": [
    "import xgboost as xgb\n",
    "import pandas as pd\n",
    "import numpy as np\n"
   ]
  },
  {
   "cell_type": "code",
   "execution_count": 9,
   "metadata": {
    "ExecuteTime": {
     "end_time": "2020-07-14T04:10:34.713645Z",
     "start_time": "2020-07-14T04:10:34.709500Z"
    }
   },
   "outputs": [],
   "source": [
    "xgb_train = xgb.DMatrix(x_train,y_train)\n",
    "xgb_test = xgb.DMatrix(x_test,y_test)"
   ]
  },
  {
   "cell_type": "code",
   "execution_count": 11,
   "metadata": {
    "ExecuteTime": {
     "end_time": "2020-07-14T04:12:25.975436Z",
     "start_time": "2020-07-14T04:12:25.933750Z"
    }
   },
   "outputs": [
    {
     "name": "stdout",
     "output_type": "stream",
     "text": [
      "[0]\ttrain-rmse:0.37267\ttest-rmse:0.37747\n",
      "[1]\ttrain-rmse:0.32155\ttest-rmse:0.32917\n",
      "[2]\ttrain-rmse:0.29239\ttest-rmse:0.30371\n",
      "[3]\ttrain-rmse:0.27422\ttest-rmse:0.28856\n",
      "[4]\ttrain-rmse:0.26207\ttest-rmse:0.27858\n",
      "[5]\ttrain-rmse:0.25341\ttest-rmse:0.27141\n",
      "[6]\ttrain-rmse:0.24685\ttest-rmse:0.26581\n",
      "[7]\ttrain-rmse:0.24160\ttest-rmse:0.26113\n",
      "[8]\ttrain-rmse:0.23720\ttest-rmse:0.25698\n",
      "[9]\ttrain-rmse:0.23336\ttest-rmse:0.25317\n"
     ]
    }
   ],
   "source": [
    "params = {\"objective\":\"reg:logistic\",\"booster\":\"gblinear\"}\n",
    "\n",
    "watchlist = [(xgb_train,'train'),(xgb_test,'test')]\n",
    "\n",
    "model = xgb.train(params,xgb_train,evals=watchlist)"
   ]
  },
  {
   "cell_type": "code",
   "execution_count": 12,
   "metadata": {
    "ExecuteTime": {
     "end_time": "2020-07-14T04:20:02.564199Z",
     "start_time": "2020-07-14T04:20:02.553228Z"
    }
   },
   "outputs": [],
   "source": [
    "y_pred= model.predict(xgb.DMatrix(x_test))"
   ]
  },
  {
   "cell_type": "code",
   "execution_count": 13,
   "metadata": {
    "ExecuteTime": {
     "end_time": "2020-07-14T04:21:03.891721Z",
     "start_time": "2020-07-14T04:21:03.888339Z"
    }
   },
   "outputs": [],
   "source": [
    "temp = y_pred\n",
    "temp[temp>0.5]=1\n",
    "temp[temp<0.5]=0"
   ]
  },
  {
   "cell_type": "code",
   "execution_count": 14,
   "metadata": {
    "ExecuteTime": {
     "end_time": "2020-07-14T04:21:51.302134Z",
     "start_time": "2020-07-14T04:21:51.296997Z"
    }
   },
   "outputs": [
    {
     "name": "stdout",
     "output_type": "stream",
     "text": [
      "Acc:90.35%\n"
     ]
    }
   ],
   "source": [
    "print(\"Acc:{:.2f}%\".format((y_pred==y_test).sum()/len(y_pred)*100))"
   ]
  },
  {
   "cell_type": "code",
   "execution_count": 15,
   "metadata": {
    "ExecuteTime": {
     "end_time": "2020-07-14T04:24:09.756289Z",
     "start_time": "2020-07-14T04:24:09.753304Z"
    }
   },
   "outputs": [],
   "source": [
    "import sklearn"
   ]
  },
  {
   "cell_type": "code",
   "execution_count": null,
   "metadata": {},
   "outputs": [],
   "source": [
    "print(sklearn.metrics.classification_report(y_test,y))"
   ]
  }
 ],
 "metadata": {
  "kernelspec": {
   "display_name": "Python 3.6.9 64-bit",
   "language": "python",
   "name": "python36964bit7e091a4bc7ad4c03b45358b2d91294f7"
  },
  "language_info": {
   "codemirror_mode": {
    "name": "ipython",
    "version": 3
   },
   "file_extension": ".py",
   "mimetype": "text/x-python",
   "name": "python",
   "nbconvert_exporter": "python",
   "pygments_lexer": "ipython3",
   "version": "3.6.9"
  },
  "toc": {
   "base_numbering": 1,
   "nav_menu": {},
   "number_sections": true,
   "sideBar": true,
   "skip_h1_title": false,
   "title_cell": "Table of Contents",
   "title_sidebar": "Contents",
   "toc_cell": false,
   "toc_position": {},
   "toc_section_display": true,
   "toc_window_display": false
  },
  "varInspector": {
   "cols": {
    "lenName": 16,
    "lenType": 16,
    "lenVar": 40
   },
   "kernels_config": {
    "python": {
     "delete_cmd_postfix": "",
     "delete_cmd_prefix": "del ",
     "library": "var_list.py",
     "varRefreshCmd": "print(var_dic_list())"
    },
    "r": {
     "delete_cmd_postfix": ") ",
     "delete_cmd_prefix": "rm(",
     "library": "var_list.r",
     "varRefreshCmd": "cat(var_dic_list()) "
    }
   },
   "types_to_exclude": [
    "module",
    "function",
    "builtin_function_or_method",
    "instance",
    "_Feature"
   ],
   "window_display": false
  }
 },
 "nbformat": 4,
 "nbformat_minor": 4
}
